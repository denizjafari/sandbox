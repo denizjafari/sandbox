{
 "cells": [
  {
   "cell_type": "code",
   "execution_count": null,
   "metadata": {},
   "outputs": [],
   "source": [
    "# selection sort \n",
    "\n",
    "# time complexity O(n^2)\n",
    "# space complexity O(1)\n",
    "# not stable \n",
    "\n",
    "def selection_sort(lst):\n",
    "    \n",
    "    for i in range(len(lst)):\n",
    "        min_index = i\n",
    "        for j in range(i+1, len(lst)):\n",
    "            if lst[j]< lst[min_index]:\n",
    "                min_index = j\n",
    "                \n",
    "        lst[i], lst[min_index] = lst[min_index], lst[i]\n",
    "            "
   ]
  },
  {
   "cell_type": "code",
   "execution_count": 13,
   "metadata": {},
   "outputs": [],
   "source": [
    "# bubble sort \n",
    "\n",
    "# time complexity O(n^2)\n",
    "# space complexity O(1)\n",
    "# stable \n",
    "\n",
    "def bubble_sort(lst):\n",
    "    \n",
    "    swap = True\n",
    "    \n",
    "    while swap:\n",
    "        swap = False\n",
    "        for i in range(len(lst)-1):\n",
    "            \n",
    "            if lst[i]>lst[i+1]:\n",
    "                lst[i], lst[i+1] = lst[i+1], lst[i]\n",
    "                swap = True\n",
    "                    \n",
    "            \n",
    "        "
   ]
  },
  {
   "cell_type": "code",
   "execution_count": null,
   "metadata": {},
   "outputs": [],
   "source": [
    "\n",
    "# insertion sort\n",
    "\n",
    "# for small input size, it almost always outperforms other sorts\n",
    "\n",
    "# time complexity O(n^2)\n",
    "# space complexity O(1)\n",
    "# stable \n",
    "\n",
    "def insertion_sort(lst):\n",
    "    \n",
    "    for i in range(1, len(lst)):\n",
    "        current_index = i\n",
    "        while current_index > 0 and lst[current_index] < lst[current_index-1]:\n",
    "            lst[current_index] , lst[current_index-1] = lst[current_index-1] , lst[current_index]\n",
    "            current_index -=1\n",
    "        "
   ]
  }
 ],
 "metadata": {
  "kernelspec": {
   "display_name": "base",
   "language": "python",
   "name": "python3"
  },
  "language_info": {
   "codemirror_mode": {
    "name": "ipython",
    "version": 3
   },
   "file_extension": ".py",
   "mimetype": "text/x-python",
   "name": "python",
   "nbconvert_exporter": "python",
   "pygments_lexer": "ipython3",
   "version": "3.10.13"
  }
 },
 "nbformat": 4,
 "nbformat_minor": 2
}
